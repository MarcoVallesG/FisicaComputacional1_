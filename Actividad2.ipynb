{
  "nbformat": 4,
  "nbformat_minor": 0,
  "metadata": {
    "colab": {
      "name": "Actividad2.ipynb",
      "provenance": [],
      "authorship_tag": "ABX9TyMYURHG4+n1jZ6Zh6ua3p6b",
      "include_colab_link": true
    },
    "kernelspec": {
      "name": "python3",
      "display_name": "Python 3"
    }
  },
  "cells": [
    {
      "cell_type": "markdown",
      "metadata": {
        "id": "view-in-github",
        "colab_type": "text"
      },
      "source": [
        "<a href=\"https://colab.research.google.com/github/MarcoVallesG/FisicaComputacional1_/blob/master/Actividad2.ipynb\" target=\"_parent\"><img src=\"https://colab.research.google.com/assets/colab-badge.svg\" alt=\"Open In Colab\"/></a>"
      ]
    },
    {
      "cell_type": "markdown",
      "metadata": {
        "id": "UxlRqsG4Jx10"
      },
      "source": [
        "ACTIVIDAD #2\r\n",
        "\r\n",
        "Marco Antonio Valles Gonzalez"
      ]
    },
    {
      "cell_type": "markdown",
      "metadata": {
        "id": "WaK7JnyvKFRr"
      },
      "source": [
        "# $\\underline{\\text{Ejercicio 1}}$\r\n",
        "\r\n"
      ]
    },
    {
      "cell_type": "markdown",
      "metadata": {
        "id": "_pAOohH3Ku0Z"
      },
      "source": [
        "Código Base"
      ]
    },
    {
      "cell_type": "code",
      "metadata": {
        "id": "XNMvYvzfKzkC"
      },
      "source": [
        "import numpy as np"
      ],
      "execution_count": null,
      "outputs": []
    },
    {
      "cell_type": "code",
      "metadata": {
        "colab": {
          "base_uri": "https://localhost:8080/"
        },
        "id": "EhIerUVOK41A",
        "outputId": "c8860084-8198-49fa-8852-485c07c27aba"
      },
      "source": [
        "# Se utiliza el símbolo # para hacer comentarios.\r\n",
        "# Se define una función de 2 variables para calcular el área.  \r\n",
        "def area(x, y):\r\n",
        "    return x*y\r\n",
        "\r\n",
        "print(\"Proporciona el largo y altura del rectángulo: \", end=\"\")\r\n",
        "l = float(input())\r\n",
        "w = float(input())\r\n",
        "a = area(l, w)\r\n",
        "# Imprime el valor del área en formato libre.\r\n",
        "print(\"\\nArea = \", a)\r\n",
        "# Imprime el valor del área con 2 decimales. \r\n",
        "print(\"\\nArea = {:.2f}\".format(a))"
      ],
      "execution_count": null,
      "outputs": [
        {
          "output_type": "stream",
          "text": [
            "Proporciona el largo y altura del rectángulo: 400\n",
            "5\n",
            "\n",
            "Area =  2000.0\n",
            "\n",
            "Area = 2000.00\n"
          ],
          "name": "stdout"
        }
      ]
    },
    {
      "cell_type": "markdown",
      "metadata": {
        "id": "Yb4vtDIXLcgD"
      },
      "source": [
        "# $\\underline{\\text{Área de un circulo}}$\r\n",
        "Para calcular el parea de un circulo se utilizaremos la siguiente fórmula:\r\n",
        "\r\n",
        "$A = \\pi r^2$"
      ]
    },
    {
      "cell_type": "code",
      "metadata": {
        "colab": {
          "base_uri": "https://localhost:8080/"
        },
        "id": "qNlMpcnzMAv5",
        "outputId": "68c7688e-a06c-4bdb-f9ee-cca9b18a9f94"
      },
      "source": [
        "def areac(r):\r\n",
        "    return np.pi*r**2\r\n",
        "\r\n",
        "print(\"Proporciona el radio del circulo: \", end=\"\")\r\n",
        "r = float(input())\r\n",
        "ac = areac(r)\r\n",
        "# Imprime el valor del área en formato libre.\r\n",
        "print(\"El área sería: \",end=\"\")\r\n",
        "print(\"\\nArea = \", ac)\r\n",
        "# Imprime el valor del área con 2 decimales. \r\n",
        "print(\"\\nEl área con dos decimales sería: \", end=\"\")\r\n",
        "print( \"\\nArea = {:.2f}\".format(ac))"
      ],
      "execution_count": null,
      "outputs": [
        {
          "output_type": "stream",
          "text": [
            "Proporciona el radio del circulo: 4\n",
            "El área sería: \n",
            "Area =  50.26548245743669\n",
            "\n",
            "El área con dos decimales sería: \n",
            "Area = 50.27\n"
          ],
          "name": "stdout"
        }
      ]
    },
    {
      "cell_type": "markdown",
      "metadata": {
        "id": "gPW-gNi_Nj1B"
      },
      "source": [
        "# $\\underline{\\text{Área de una elipse}}$\r\n",
        "Para calcular el área de una utilizaremos la siguiente fórmula:\r\n",
        "\r\n",
        "$ A = \\pi Rr$\r\n",
        "\r\n",
        "Donde R es el radio mayor y r es el radio menor"
      ]
    },
    {
      "cell_type": "code",
      "metadata": {
        "colab": {
          "base_uri": "https://localhost:8080/"
        },
        "id": "7jG4m8rLOcz-",
        "outputId": "1236db3f-ca76-452a-b5a7-6e170471f05e"
      },
      "source": [
        "def areae(rma,rme):\r\n",
        "    return np.pi*rma*rme\r\n",
        "\r\n",
        "print(\"Proporciona el radio mayor de la elpise: \", end=\"\")\r\n",
        "rma = float(input())\r\n",
        "print(\"Proporciona el radio menor de la elipse: \", end=\"\")\r\n",
        "rme = float(input())\r\n",
        "ae = areae(rma,rme)\r\n",
        "# Imprime el valor del área en formato libre.\r\n",
        "print(\"El área seria: \", end=\"\")\r\n",
        "print(\"\\nÁrea = \", ae)\r\n",
        "# Imprime el valor del área con 2 decimales. \r\n",
        "print(\"\\nEl área con dos decimales sería: \", end=\"\")\r\n",
        "print( \"\\nArea = {:.2f}\".format(ae))"
      ],
      "execution_count": null,
      "outputs": [
        {
          "output_type": "stream",
          "text": [
            "Proporciona el radio mayor de la elpise: 4\n",
            "Proporciona el radio menor de la elipse: 2\n",
            "El área seria: \n",
            "Área =  25.132741228718345\n",
            "\n",
            "El área con dos decimales sería: \n",
            "Area = 25.13\n"
          ],
          "name": "stdout"
        }
      ]
    },
    {
      "cell_type": "markdown",
      "metadata": {
        "id": "gwrSuhB2Pycc"
      },
      "source": [
        "# $\\underline{\\text{Volumen de una esfera}}$\r\n",
        "\r\n",
        "Para calcular el volumen de una esfera utilizaremos la siguiente fórmula: \r\n",
        "\r\n",
        "$V = \\frac{4}{3} \\pi r^3$"
      ]
    },
    {
      "cell_type": "code",
      "metadata": {
        "colab": {
          "base_uri": "https://localhost:8080/"
        },
        "id": "YKCwaENkQhnL",
        "outputId": "369735e1-2b5d-45da-b484-1616842967bb"
      },
      "source": [
        "def vole(r):\r\n",
        "    return 4*np.pi*r**3/3\r\n",
        "\r\n",
        "print(\"Proporciona el radio de la esfera: \", end=\"\")\r\n",
        "r = float(input())\r\n",
        "ve = vole(r)\r\n",
        "# Imprime el valor del área en formato libre.\r\n",
        "print(\"El volumen es: \", end=\"\")\r\n",
        "print(\"\\nVolumen = \", ve)\r\n",
        "# Imprime el valor del área con 2 decimales. \r\n",
        "print(\"\\nEl volumen con dos decimales sería: \", end=\"\")\r\n",
        "print( \"\\nVolumen = {:.2f}\".format(ve))"
      ],
      "execution_count": null,
      "outputs": [
        {
          "output_type": "stream",
          "text": [
            "Proporciona el radio de la esfera: 2\n",
            "El volumen es: \n",
            "Volumen =  33.510321638291124\n",
            "\n",
            "El volumen con dos decimales sería: \n",
            "Volumen = 33.51\n"
          ],
          "name": "stdout"
        }
      ]
    },
    {
      "cell_type": "markdown",
      "metadata": {
        "id": "60PZL2TQVIWO"
      },
      "source": [
        "# $\\underline{\\text{Volumen de un cilindro circular}}$\r\n",
        "Para calcular el volumen de un cilindro utilizaremos la siguiente fórmula:\r\n",
        "\r\n",
        "$\\pi r^2h$\r\n",
        "\r\n",
        "Donde r es el radio del circulo y h es la altura del cilindro"
      ]
    },
    {
      "cell_type": "code",
      "metadata": {
        "colab": {
          "base_uri": "https://localhost:8080/"
        },
        "id": "D80v8nbZZpHk",
        "outputId": "24ed473a-93e6-4d8a-e9c2-c6ef7f8fbc87"
      },
      "source": [
        "def volc(r,h):\r\n",
        "    return np.pi*r**2*h\r\n",
        "\r\n",
        "print(\"Proporciona el radio del circulo: \", end=\"\")\r\n",
        "r = float(input())\r\n",
        "print(\"Proporciona la altura del cilindro: \", end=\"\")\r\n",
        "h = float(input())\r\n",
        "vc = volc(r,h)\r\n",
        "# Imprime el valor del área en formato libre.\r\n",
        "print(\"El volumen del cilindro sería entonces: \", end=\"\")\r\n",
        "print(\"\\nVolumen = \", vc)\r\n",
        "# Imprime el valor del área con 2 decimales. \r\n",
        "print(\"\\nEl volumen con dos decimales sería: \", end=\"\")\r\n",
        "print( \"\\nVolumen = {:.2f}\".format(vc))"
      ],
      "execution_count": null,
      "outputs": [
        {
          "output_type": "stream",
          "text": [
            "Proporciona el radio del circulo: 4\n",
            "Proporciona la altura del cilindro: 5\n",
            "El volumen del cilindro sería entonces: \n",
            "Volumen =  251.32741228718345\n",
            "\n",
            "El volumen con dos decimales sería: \n",
            "Volumen = 251.33\n"
          ],
          "name": "stdout"
        }
      ]
    },
    {
      "cell_type": "markdown",
      "metadata": {
        "id": "j2XJftjCaloQ"
      },
      "source": [
        "# $\\underline{\\text{Ejercicio 2}}$\r\n",
        "\r\n"
      ]
    },
    {
      "cell_type": "markdown",
      "metadata": {
        "id": "FW60SlVueYn3"
      },
      "source": [
        "Este código servira para calcular las raíces de un polinomio de segundo grado, con la forma: \r\n",
        "\r\n",
        "$Ax^2+Bx+C=0$"
      ]
    },
    {
      "cell_type": "code",
      "metadata": {
        "id": "r4U9btZ09Hqc"
      },
      "source": [
        "#a,b,c serán los coeficientes del polinomio\r\n",
        "#Haremos un caso especial para cada caso del discriminante, igual a cero mayor y menor que este\r\n",
        "#importaremos la libreria math para calcular las raices\r\n",
        "#importaremos la libreria cmath para poder calcular las raices complejas\r\n",
        "#Comenzaremos pidiendo los valores de estos coeficientes\r\n",
        "import math\r\n",
        "import cmath\r\n",
        "print(\"El programa sirve para calcular las raíces de un polinomio de segundo orden \\ncon la siguiente forma: \")\r\n",
        "print(\"\\n Ax^2+Bx+C=0\",end=\"\")\r\n",
        "\r\n",
        "#Definimos las variables para el discriminante\r\n",
        "def raiz(x,y,z):\r\n",
        "  return (y**2-4*x*z)\r\n",
        "\r\n",
        "#A continuacion pediremos los valores de los coeficientes\r\n",
        "print(\"\\n\\nIntroduce los valores de los coeficientes A, B, C en el siguiente orden \\nValor de A \\nValor de B \\nValor de C\")\r\n",
        "a,b,c=float(input()),float(input()),float(input())\r\n",
        "print(\"\\nLa ecuacion cuadratica sería entonces: \\n\",a,\"x^2 + \",b,\"x + \",c,\"= 0\",end=\"\")\r\n",
        "#Comenzaremos con los condicionales para los distintos casos\r\n",
        "dis = raiz(a,b,c)\r\n",
        "\r\n",
        "#Mayor que cero\r\n",
        "if dis>0:\r\n",
        "  pos = (-b + math.sqrt(dis))/(2*a)\r\n",
        "  neg = (-b - math.sqrt(dis))/(2*a)\r\n",
        "  print(\"\\n\\nLa ecuación consta de dos raíces reales distintas: \\nRaíz1 = \",pos,\"\\nRaíz2 = \",neg, end=\"\") \r\n",
        "#Igual a cero\r\n",
        "elif dis==0:\r\n",
        "  igual = -b/(2*a)\r\n",
        "  print(\"\\n\\nLa ecuación consta de una misma raíz repetida dos veces, las raices son: \\nRaíz1 = \",igual,\"\\nRaíz2 = \",igual,end=\"\")  \r\n",
        "#Menor que cero\r\n",
        "elif dis<0:\r\n",
        "  pos = (-b + cmath.sqrt(dis))/(2*a)\r\n",
        "  neg = (-b - cmath.sqrt(dis))/(2*a)\r\n",
        "  print(\"\\n\\nLa ecuación consta de dos raíces complejas conjugadas: \\nRaíz1 = \",pos,\"\\nRaíz2 = \",neg, end=\"\")\r\n",
        "  "
      ],
      "execution_count": null,
      "outputs": []
    },
    {
      "cell_type": "markdown",
      "metadata": {
        "id": "I1cjt7z-Mv3o"
      },
      "source": [
        "# $\\underline{\\text{Ejercicio 3}}$\r\n",
        "El código servirá para calcular la raíz cuadrada de un número real $S$, utilizando el método Babilonio (o de Herón)\r\n",
        "\r\n",
        "$x_0 \\approx \\sqrt{S}$\r\n",
        "\r\n",
        "$x_{n+1} = \\frac{1}{2}(x_n+\\frac{S}{x_n})$\r\n",
        "\r\n",
        "$\\sqrt{S} = \\lim_{x\\to\\infty}x_n$\r\n",
        "\r\n",
        "Compararemos el valor con el calculo de la misma raíz usando una librería de python (NumPy) hasta obtener un error menor a 0.0001(en la actividad pide 0.01 pero quise obtener un poco más de certeza)"
      ]
    },
    {
      "cell_type": "code",
      "metadata": {
        "colab": {
          "base_uri": "https://localhost:8080/"
        },
        "id": "SDey4h0eQEW3",
        "outputId": "184228b3-fc86-4236-e542-05373a0c6eab"
      },
      "source": [
        "#Como se menciona en la descripción, utilizaremos la libreria de numpy\r\n",
        "import numpy as np\r\n",
        "\r\n",
        "#Para comenzar se pedira el valor s\r\n",
        "print(\"Este programa sirve para aproximar la raíz cuadrada de un numero S con un error menor que 0.0001\")\r\n",
        "print(\"\\n¿A qué número S deseas calcularle la raíz cuadrada?\", end=\"\")\r\n",
        "s = float(input())\r\n",
        "rs = np.sqrt(s)\r\n",
        "print(\"\\n\\nComo estamos utilizando el método Babilonio, ocupamos un valor inicial x \\n¿Qué valor inicial quieres tomar?\")\r\n",
        "x0 = float(input())\r\n",
        "\r\n",
        "#Aqui comenzaremos la parte importante del codigo, donde se aplica un pequeño loop\r\n",
        "aprox = (x0+s/x0)/2\r\n",
        "i=1\r\n",
        "\r\n",
        " #aqui es donde entra el loop\r\n",
        "while abs(rs-aprox) >=.0001:\r\n",
        "  aprox = (aprox+s/aprox)/2\r\n",
        "  i=i+1\r\n",
        "  if abs(rs-aprox) < .0001:\r\n",
        "    break\r\n",
        "\r\n",
        "print(\"\\nEl valor aproximado de la raíz de \",s,\"es: \",aprox,\"\\nCon un error de \",rs-aprox,\"el cual es menor que 0.0001\")\r\n",
        "print(\"Gracias por utilizar el programa\", end=\"\")\r\n",
        "\r\n",
        "\r\n"
      ],
      "execution_count": 77,
      "outputs": [
        {
          "output_type": "stream",
          "text": [
            "Este programa sirve para aproximar la raíz cuadrada de un numero S con un error menor que 0.0001\n",
            "\n",
            "¿A qué número S deseas calcularle la raíz cuadrada?65451\n",
            "\n",
            "\n",
            "Como estamos utilizando el método Babilonio, ocupamos un valor inicial x \n",
            "¿Qué valor inicial quieres tomar?\n",
            "1\n",
            "\n",
            "El valor aproximado de la raíz de  65451.0 es:  255.8339874906678 \n",
            "Con un error de  -5.698104990869979e-05 el cual es menor que 0.0001\n",
            "Gracias por utilizar el programa"
          ],
          "name": "stdout"
        }
      ]
    },
    {
      "cell_type": "markdown",
      "metadata": {
        "id": "2g50w16GauLM"
      },
      "source": [
        "# $\\underline{\\text{Ejercicio 4}}$\r\n"
      ]
    },
    {
      "cell_type": "code",
      "metadata": {
        "colab": {
          "base_uri": "https://localhost:8080/",
          "height": 567
        },
        "id": "L50gv9xmvgPI",
        "outputId": "68500b32-243d-4f06-8f7e-4c578928722b"
      },
      "source": [
        "import numpy as np\r\n",
        "import matplotlib.pyplot as plt #Para graficar\r\n",
        "\r\n",
        "\r\n",
        "print(\"Hola, este programa esta disenado para aproximar la funcion ln(1+x) usando la serie de Taylor para esta función.\")\r\n",
        "print(\"Los valores que pide el ejercicio son: 4, 7, 11, 16\")\r\n",
        "\r\n",
        "print(\"\\nPor favor ingrese el grado del polinomio de Taylor del cual quiere que sea su aproximación:\")\r\n",
        "\r\n",
        "n=int(input())\r\n",
        "\r\n",
        "cero=0.0\r\n",
        "\r\n",
        "\r\n",
        "x=np.linspace(-1.5,1.5,100)\r\n",
        "\r\n",
        "Tnau=0.0 #Valor auxiliar usado para el loop\r\n",
        "for i in range(1,n+1,1):\r\n",
        "  Tn=Tnau+((-1)**(i+1))*(x**i/i)\r\n",
        "  Tnau=Tn\r\n",
        "\r\n",
        "print(\"\\nUno mas:\")\r\n",
        "\r\n",
        "n1=int(input())\r\n",
        "Tnau1=0.0\r\n",
        "\r\n",
        "for i in range(1,n1+1,1):\r\n",
        "  Tn1=Tnau1+((-1)**(i+1))*(x**i/i)\r\n",
        "  Tnau1=Tn1\r\n",
        "\r\n",
        "print(\"\\nUno mas:\")\r\n",
        "\r\n",
        "n2=int(input())\r\n",
        "Tnau2=0.0 \r\n",
        "  \r\n",
        "for i in range(1,n2+1,1):\r\n",
        "  Tn2=Tnau2+((-1)**(i+1))*(x**i/i)\r\n",
        "  Tnau2=Tn2\r\n",
        "\r\n",
        "\r\n",
        "print(\"\\nUno mas:\")\r\n",
        "\r\n",
        "n3=int(input())\r\n",
        "Tnau3=0.0\r\n",
        "\r\n",
        "for i in range(1,n3+1,1):\r\n",
        "  Tn3=Tnau3+((-1)**(i+1))*(x**i/i)\r\n",
        "  Tnau3=Tn3\r\n",
        "\r\n",
        "#Haciendo las graficas:\r\n",
        "plt.subplot(111)\r\n",
        "plt.xlabel(\"X\")\r\n",
        "plt.ylabel(\"Y\")\r\n",
        "plt.title(\"Aprox. de ln(1+x)\")\r\n",
        "\r\n",
        "#Graficando:\r\n",
        "plt.plot(x,Tn, label=\"$T_4$\")\r\n",
        "plt.plot(x,Tn1, label=\"$T_7$\")\r\n",
        "plt.plot(x,Tn2, label=\"$T_{11}$\")\r\n",
        "plt.plot(x,Tn3, label=\"$T_{16}$\")\r\n",
        "plt.plot(x,np.log(1+x), label=\"$ln(1+x)$\")\r\n",
        "# Agregar una malla\r\n",
        "plt.grid(True)\r\n",
        "# Fijar los límites en el eje Y.\r\n",
        "plt.ylim(-4, 2)\r\n",
        "# Ubicación de las etiquetas de las funciones\r\n",
        "plt.legend(bbox_to_anchor=(1,1), loc=\"upper left\")\r\n",
        "\r\n",
        "plt.show()\r\n",
        "\r\n",
        "plt.savefig('Actividad2Ejercicio4.png')"
      ],
      "execution_count": 82,
      "outputs": [
        {
          "output_type": "stream",
          "text": [
            "Hola, este programa esta disenado para aproximar la funcion ln(1+x) usando la serie de Taylor para esta función.\n",
            "Los valores que pide el ejercicio son: 4, 7, 11, 16\n",
            "\n",
            "Por favor ingrese el grado del polinomio de Taylor del cual quiere que sea su aproximación:\n",
            "4\n",
            "\n",
            "Uno mas:\n",
            "11\n",
            "\n",
            "Uno mas:\n",
            "7\n",
            "\n",
            "Uno mas:\n",
            "16\n"
          ],
          "name": "stdout"
        },
        {
          "output_type": "stream",
          "text": [
            "/usr/local/lib/python3.6/dist-packages/ipykernel_launcher.py:61: RuntimeWarning: invalid value encountered in log\n"
          ],
          "name": "stderr"
        },
        {
          "output_type": "display_data",
          "data": {
            "image/png": "[encoded data removed]",
            "text/plain": [
              "<Figure size 432x288 with 1 Axes>"
            ]
          },
          "metadata": {
            "tags": [],
            "needs_background": "light"
          }
        },
        {
          "output_type": "display_data",
          "data": {
            "text/plain": [
              "<Figure size 432x288 with 0 Axes>"
            ]
          },
          "metadata": {
            "tags": []
          }
        }
      ]
    }
  ]
}